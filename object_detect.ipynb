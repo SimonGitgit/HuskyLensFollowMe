{
  "nbformat": 4,
  "nbformat_minor": 0,
  "metadata": {
    "colab": {
      "provenance": [],
      "collapsed_sections": [],
      "authorship_tag": "ABX9TyMvF4jnvQszVG7j+5KmYdi4",
      "include_colab_link": true
    },
    "kernelspec": {
      "name": "python3",
      "display_name": "Python 3"
    },
    "language_info": {
      "name": "python"
    }
  },
  "cells": [
    {
      "cell_type": "markdown",
      "metadata": {
        "id": "view-in-github",
        "colab_type": "text"
      },
      "source": [
        "<a href=\"https://colab.research.google.com/github/SimonGitgit/HuskyLensFollowMe/blob/main/object_detect.ipynb\" target=\"_parent\"><img src=\"https://colab.research.google.com/assets/colab-badge.svg\" alt=\"Open In Colab\"/></a>"
      ]
    },
    {
      "cell_type": "markdown",
      "source": [
        "**download and install anaconda.**\n",
        "https://www.anaconda.com/products/individual#Downloads\n",
        "\n",
        "**then create yolo environment in conda ：**\n"
      ],
      "metadata": {
        "id": "MoWpPSbjogDu"
      }
    },
    {
      "cell_type": "code",
      "execution_count": null,
      "metadata": {
        "id": "u9Gsd3dPnqal"
      },
      "outputs": [],
      "source": [
        "conda create -n yolo python=3.8 \n",
        "conda info -e\n",
        "activate yolo # switch environment from base to yolo"
      ]
    },
    {
      "cell_type": "markdown",
      "source": [
        "**download yolov5.**\n",
        "https://github.com/ultralytics/yolov5\n",
        "\n",
        "**install requirements under yolo environment：**"
      ],
      "metadata": {
        "id": "_njHCjo6oesr"
      }
    },
    {
      "cell_type": "code",
      "source": [
        "pip install -r requirements.txt"
      ],
      "metadata": {
        "id": "zlvIdnOVxpkf"
      },
      "execution_count": null,
      "outputs": []
    },
    {
      "cell_type": "markdown",
      "source": [
        "**create a folder 'yolo', including a folder 'images', a folder 'lables' and a yaml file 'A.yaml'.**\n",
        "\n",
        "**collecte several images of the object you want to detect and put them into 'images' folder.**\n",
        "\n",
        "**download labelimg. labelimg is a tool to help you lable collected images.** https://github.com/tzutalin/labelImg\n",
        "\n",
        "(**you can also use Roboflow to lable.** https://roboflow.com/?ref=ultralytics)\n",
        "\n",
        "**after unzip labelimg folder, delete 'labelImg-master\\data\\predefined_classes.txt'. Otherwise there will be some strange classifications.**"
      ],
      "metadata": {
        "id": "SQe-QfGUyfiG"
      }
    },
    {
      "cell_type": "code",
      "source": [
        "activate yolo\n",
        "conda install pyqt=5\n",
        "conda install -c anaconda lxml\n",
        "pyrcc5 -o libs/resources.py resources.qrc\n",
        "python labelimg.py"
      ],
      "metadata": {
        "id": "jPpVCqatChZ4"
      },
      "execution_count": null,
      "outputs": []
    },
    {
      "cell_type": "markdown",
      "source": [
        "**use labelimg select the object in the images and save data in labels folder.**\n",
        "\n",
        "**put following code in the A.yaml file and change file path.**\n",
        "\n"
      ],
      "metadata": {
        "id": "G_IYCVpEDxzr"
      }
    },
    {
      "cell_type": "code",
      "source": [
        "# train and val data as 1) directory: path/images/, 2) file: path/images.txt, or 3) list: [path1/images/, path2/images/]\n",
        "train: ../yolo/images/\n",
        "val: ../yolo/images/\n",
        "# number of classes\n",
        "nc: 1\n",
        "\n",
        "# class names\n",
        "names: ['A']"
      ],
      "metadata": {
        "id": "Z44wzd85GLj_"
      },
      "execution_count": null,
      "outputs": []
    },
    {
      "cell_type": "markdown",
      "source": [
        "**train your dataset.**"
      ],
      "metadata": {
        "id": "ctSy29B2Gdj6"
      }
    },
    {
      "cell_type": "code",
      "source": [
        "import torch\n",
        "from IPython.display import Image, clear_output  # to display images\n",
        "\n",
        "clear_output()\n",
        "print('Setup complete. Using torch %s %s' % (torch.__version__, torch.cuda.get_device_properties(0) if torch.cuda.is_available() else 'CPU'))\n",
        "\n",
        "python train.py --img 640 --batch 50 --epochs 100 --data ../yolo/A.yaml --weights yolov5s.pt --nosave --cache"
      ],
      "metadata": {
        "id": "7XnLTptMK43S"
      },
      "execution_count": null,
      "outputs": []
    },
    {
      "cell_type": "markdown",
      "source": [
        "**after training, use another image to test. change image path.**"
      ],
      "metadata": {
        "id": "AZG2_QXxLLG8"
      }
    },
    {
      "cell_type": "code",
      "source": [
        "python detect.py --weights /content/yolov5/runs/train/exp2/weights/best.pt --img 640 --conf 0.25 --source ../test.jpg"
      ],
      "metadata": {
        "id": "YEHsMuGzLTUs"
      },
      "execution_count": null,
      "outputs": []
    },
    {
      "cell_type": "markdown",
      "source": [
        "**show detect result.**"
      ],
      "metadata": {
        "id": "2Pr4QOPXLrdJ"
      }
    },
    {
      "cell_type": "code",
      "source": [
        "import matplotlib.pyplot as plt\n",
        "from matplotlib.image import imread\n",
        " \n",
        "img = imread('runs\\detect\\exp7\\\\test.jpg')\n",
        "plt.imshow(img)\n",
        " \n",
        "plt.show()"
      ],
      "metadata": {
        "id": "NAjpvhSXwVVw"
      },
      "execution_count": null,
      "outputs": []
    }
  ]
}